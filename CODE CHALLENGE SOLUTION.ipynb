{
 "cells": [
  {
   "cell_type": "code",
   "execution_count": 1,
   "metadata": {},
   "outputs": [],
   "source": [
    "import pandas as pd  # i imported pandas(it is a python tool for datastructure and analysis) from python libary \n",
    "import numpy as np   #i imported numpy{ it is a numerical python libary for numerical computation} from python libary"
   ]
  },
  {
   "cell_type": "code",
   "execution_count": null,
   "metadata": {},
   "outputs": [],
   "source": [
    "# i converted the files to a csv files inorder to be able to acess it as data"
   ]
  },
  {
   "cell_type": "code",
   "execution_count": 54,
   "metadata": {},
   "outputs": [],
   "source": [
    "# i use the pandas function to read in the data\n",
    "abiaV = pd.read_csv(\"Abia_votes.csv\") \n",
    "enuguV = pd.read_csv(\"Enugu_votes.csv\")\n",
    "kadunaV = pd.read_csv(\"Kaduna_votes.csv\")\n",
    "lagosV = pd.read_csv(\"Lagos_votes.csv\")\n",
    "oyoV = pd.read_csv(\"oyo_votes.csv\")"
   ]
  },
  {
   "cell_type": "code",
   "execution_count": 55,
   "metadata": {},
   "outputs": [],
   "source": [
    "# i created a copy of the dataset\n",
    "abiaC = abiaV.copy()\n",
    "enuguC = enuguV.copy()\n",
    "kadunaC = kadunaV.copy()\n",
    "lagosC =lagosV.copy()\n",
    "oyoC = oyoV.copy()"
   ]
  },
  {
   "cell_type": "markdown",
   "metadata": {},
   "source": [
    "# a. Using a function/class, count the number of votes  each party received in each state.  "
   ]
  },
  {
   "cell_type": "code",
   "execution_count": 57,
   "metadata": {},
   "outputs": [
    {
     "data": {
      "text/plain": [
       "ACP    113\n",
       "YYP    106\n",
       "SDP    100\n",
       "APC     97\n",
       "PDP     84\n",
       "Name: Lagos, dtype: int64"
      ]
     },
     "execution_count": 57,
     "metadata": {},
     "output_type": "execute_result"
    }
   ],
   "source": [
    "lagosC.Lagos.value_counts() # i use the count function from pandas to count all the party vote  in lagos"
   ]
  },
  {
   "cell_type": "code",
   "execution_count": 60,
   "metadata": {},
   "outputs": [
    {
     "data": {
      "text/plain": [
       "YYP    74\n",
       "ACP    67\n",
       "PDP    67\n",
       "APC    64\n",
       "SDP    53\n",
       "Name: Abia, dtype: int64"
      ]
     },
     "execution_count": 60,
     "metadata": {},
     "output_type": "execute_result"
    }
   ],
   "source": [
    "abiaC.Abia.value_counts() # i use the count function from pandas to count all the party vote  in abia"
   ]
  },
  {
   "cell_type": "code",
   "execution_count": 61,
   "metadata": {},
   "outputs": [
    {
     "data": {
      "text/plain": [
       "PDP    67\n",
       "APC    63\n",
       "SDP    59\n",
       "ACP    56\n",
       "YYP    55\n",
       "Name: Enugu, dtype: int64"
      ]
     },
     "execution_count": 61,
     "metadata": {},
     "output_type": "execute_result"
    }
   ],
   "source": [
    "enuguC.Enugu.value_counts() # i use the count function from pandas to count all the party vote  in enugu"
   ]
  },
  {
   "cell_type": "code",
   "execution_count": 62,
   "metadata": {},
   "outputs": [
    {
     "data": {
      "text/plain": [
       "SDP    82\n",
       "ACP    74\n",
       "YYP    70\n",
       "APC    70\n",
       "PDP    54\n",
       "Name: Oyo, dtype: int64"
      ]
     },
     "execution_count": 62,
     "metadata": {},
     "output_type": "execute_result"
    }
   ],
   "source": [
    "oyoC.Oyo.value_counts() # i use the count function from pandas to count all the party vote  in oyo"
   ]
  },
  {
   "cell_type": "code",
   "execution_count": 63,
   "metadata": {},
   "outputs": [
    {
     "data": {
      "text/plain": [
       "YYP    89\n",
       "PDP    83\n",
       "ACP    81\n",
       "APC    75\n",
       "SDP    72\n",
       "Name: Kaduna, dtype: int64"
      ]
     },
     "execution_count": 63,
     "metadata": {},
     "output_type": "execute_result"
    }
   ],
   "source": [
    "kadunaC.Kaduna.value_counts() # i use the count function from pandas to count all the party vote  in lagos"
   ]
  },
  {
   "cell_type": "markdown",
   "metadata": {},
   "source": [
    "# b. Which party had the most votes in each state?  "
   ]
  },
  {
   "cell_type": "code",
   "execution_count": 6,
   "metadata": {},
   "outputs": [
    {
     "data": {
      "text/plain": [
       "'YYP'"
      ]
     },
     "execution_count": 6,
     "metadata": {},
     "output_type": "execute_result"
    }
   ],
   "source": [
    "abiaC[\"Abia\"].value_counts().idxmax() #i use the count.idxmax() function from pandas to count and return the party with the highest vote count"
   ]
  },
  {
   "cell_type": "code",
   "execution_count": 65,
   "metadata": {},
   "outputs": [
    {
     "data": {
      "text/plain": [
       "'ACP'"
      ]
     },
     "execution_count": 65,
     "metadata": {},
     "output_type": "execute_result"
    }
   ],
   "source": [
    "lagosC[\"Lagos\"].value_counts().idxmax()"
   ]
  },
  {
   "cell_type": "code",
   "execution_count": 66,
   "metadata": {},
   "outputs": [
    {
     "data": {
      "text/plain": [
       "'PDP'"
      ]
     },
     "execution_count": 66,
     "metadata": {},
     "output_type": "execute_result"
    }
   ],
   "source": [
    "enuguC[\"Enugu\"].value_counts().idxmax()"
   ]
  },
  {
   "cell_type": "code",
   "execution_count": 67,
   "metadata": {},
   "outputs": [
    {
     "data": {
      "text/plain": [
       "'PDP'"
      ]
     },
     "execution_count": 67,
     "metadata": {},
     "output_type": "execute_result"
    }
   ],
   "source": [
    "enuguC[\"Enugu\"].value_counts().idxmax()"
   ]
  },
  {
   "cell_type": "code",
   "execution_count": 69,
   "metadata": {},
   "outputs": [
    {
     "data": {
      "text/plain": [
       "'YYP'"
      ]
     },
     "execution_count": 69,
     "metadata": {},
     "output_type": "execute_result"
    }
   ],
   "source": [
    "kadunaC[\"Kaduna\"].value_counts().idxmax()"
   ]
  },
  {
   "cell_type": "code",
   "execution_count": 11,
   "metadata": {},
   "outputs": [
    {
     "data": {
      "text/plain": [
       "YYP    74\n",
       "ACP    67\n",
       "PDP    67\n",
       "APC    64\n",
       "SDP    53\n",
       "Name: Abia, dtype: int64"
      ]
     },
     "execution_count": 11,
     "metadata": {},
     "output_type": "execute_result"
    }
   ],
   "source": [
    "abiaVoteCount = abiaC[\"Abia\"].value_counts()\n",
    "abiaVoteCount.head()"
   ]
  },
  {
   "cell_type": "markdown",
   "metadata": {},
   "source": [
    "# c. who had the most votes in the entire country ? "
   ]
  },
  {
   "cell_type": "markdown",
   "metadata": {},
   "source": [
    "# i use pandas function to convert the votes of each party in a state into a dataframe  "
   ]
  },
  {
   "cell_type": "code",
   "execution_count": 77,
   "metadata": {},
   "outputs": [
    {
     "data": {
      "text/html": [
       "<div>\n",
       "<style scoped>\n",
       "    .dataframe tbody tr th:only-of-type {\n",
       "        vertical-align: middle;\n",
       "    }\n",
       "\n",
       "    .dataframe tbody tr th {\n",
       "        vertical-align: top;\n",
       "    }\n",
       "\n",
       "    .dataframe thead th {\n",
       "        text-align: right;\n",
       "    }\n",
       "</style>\n",
       "<table border=\"1\" class=\"dataframe\">\n",
       "  <thead>\n",
       "    <tr style=\"text-align: right;\">\n",
       "      <th></th>\n",
       "      <th>Abia</th>\n",
       "    </tr>\n",
       "  </thead>\n",
       "  <tbody>\n",
       "    <tr>\n",
       "      <th>YYP</th>\n",
       "      <td>74</td>\n",
       "    </tr>\n",
       "    <tr>\n",
       "      <th>ACP</th>\n",
       "      <td>67</td>\n",
       "    </tr>\n",
       "    <tr>\n",
       "      <th>PDP</th>\n",
       "      <td>67</td>\n",
       "    </tr>\n",
       "    <tr>\n",
       "      <th>APC</th>\n",
       "      <td>64</td>\n",
       "    </tr>\n",
       "    <tr>\n",
       "      <th>SDP</th>\n",
       "      <td>53</td>\n",
       "    </tr>\n",
       "  </tbody>\n",
       "</table>\n",
       "</div>"
      ],
      "text/plain": [
       "     Abia\n",
       "YYP    74\n",
       "ACP    67\n",
       "PDP    67\n",
       "APC    64\n",
       "SDP    53"
      ]
     },
     "execution_count": 77,
     "metadata": {},
     "output_type": "execute_result"
    }
   ],
   "source": [
    "abiaVoteCountN = pd.DataFrame(abiaVoteCount)\n",
    "abiaVoteCountN.head()"
   ]
  },
  {
   "cell_type": "code",
   "execution_count": 74,
   "metadata": {},
   "outputs": [
    {
     "data": {
      "text/html": [
       "<div>\n",
       "<style scoped>\n",
       "    .dataframe tbody tr th:only-of-type {\n",
       "        vertical-align: middle;\n",
       "    }\n",
       "\n",
       "    .dataframe tbody tr th {\n",
       "        vertical-align: top;\n",
       "    }\n",
       "\n",
       "    .dataframe thead th {\n",
       "        text-align: right;\n",
       "    }\n",
       "</style>\n",
       "<table border=\"1\" class=\"dataframe\">\n",
       "  <thead>\n",
       "    <tr style=\"text-align: right;\">\n",
       "      <th></th>\n",
       "      <th>Enugu</th>\n",
       "    </tr>\n",
       "  </thead>\n",
       "  <tbody>\n",
       "    <tr>\n",
       "      <th>PDP</th>\n",
       "      <td>67</td>\n",
       "    </tr>\n",
       "    <tr>\n",
       "      <th>APC</th>\n",
       "      <td>63</td>\n",
       "    </tr>\n",
       "    <tr>\n",
       "      <th>SDP</th>\n",
       "      <td>59</td>\n",
       "    </tr>\n",
       "    <tr>\n",
       "      <th>ACP</th>\n",
       "      <td>56</td>\n",
       "    </tr>\n",
       "    <tr>\n",
       "      <th>YYP</th>\n",
       "      <td>55</td>\n",
       "    </tr>\n",
       "  </tbody>\n",
       "</table>\n",
       "</div>"
      ],
      "text/plain": [
       "     Enugu\n",
       "PDP     67\n",
       "APC     63\n",
       "SDP     59\n",
       "ACP     56\n",
       "YYP     55"
      ]
     },
     "execution_count": 74,
     "metadata": {},
     "output_type": "execute_result"
    }
   ],
   "source": [
    "enuguVoteCountN = pd.DataFrame(enuguVoteCount)\n",
    "enuguVoteCountN.head()"
   ]
  },
  {
   "cell_type": "code",
   "execution_count": 78,
   "metadata": {},
   "outputs": [
    {
     "data": {
      "text/html": [
       "<div>\n",
       "<style scoped>\n",
       "    .dataframe tbody tr th:only-of-type {\n",
       "        vertical-align: middle;\n",
       "    }\n",
       "\n",
       "    .dataframe tbody tr th {\n",
       "        vertical-align: top;\n",
       "    }\n",
       "\n",
       "    .dataframe thead th {\n",
       "        text-align: right;\n",
       "    }\n",
       "</style>\n",
       "<table border=\"1\" class=\"dataframe\">\n",
       "  <thead>\n",
       "    <tr style=\"text-align: right;\">\n",
       "      <th></th>\n",
       "      <th>Lagos</th>\n",
       "    </tr>\n",
       "  </thead>\n",
       "  <tbody>\n",
       "    <tr>\n",
       "      <th>ACP</th>\n",
       "      <td>113</td>\n",
       "    </tr>\n",
       "    <tr>\n",
       "      <th>YYP</th>\n",
       "      <td>106</td>\n",
       "    </tr>\n",
       "    <tr>\n",
       "      <th>SDP</th>\n",
       "      <td>100</td>\n",
       "    </tr>\n",
       "    <tr>\n",
       "      <th>APC</th>\n",
       "      <td>97</td>\n",
       "    </tr>\n",
       "    <tr>\n",
       "      <th>PDP</th>\n",
       "      <td>84</td>\n",
       "    </tr>\n",
       "  </tbody>\n",
       "</table>\n",
       "</div>"
      ],
      "text/plain": [
       "     Lagos\n",
       "ACP    113\n",
       "YYP    106\n",
       "SDP    100\n",
       "APC     97\n",
       "PDP     84"
      ]
     },
     "execution_count": 78,
     "metadata": {},
     "output_type": "execute_result"
    }
   ],
   "source": [
    "lagosVoteCountN = pd.DataFrame(lagosVoteCount)\n",
    "lagosVoteCountN.head()"
   ]
  },
  {
   "cell_type": "code",
   "execution_count": 79,
   "metadata": {},
   "outputs": [
    {
     "data": {
      "text/html": [
       "<div>\n",
       "<style scoped>\n",
       "    .dataframe tbody tr th:only-of-type {\n",
       "        vertical-align: middle;\n",
       "    }\n",
       "\n",
       "    .dataframe tbody tr th {\n",
       "        vertical-align: top;\n",
       "    }\n",
       "\n",
       "    .dataframe thead th {\n",
       "        text-align: right;\n",
       "    }\n",
       "</style>\n",
       "<table border=\"1\" class=\"dataframe\">\n",
       "  <thead>\n",
       "    <tr style=\"text-align: right;\">\n",
       "      <th></th>\n",
       "      <th>Oyo</th>\n",
       "    </tr>\n",
       "  </thead>\n",
       "  <tbody>\n",
       "    <tr>\n",
       "      <th>SDP</th>\n",
       "      <td>82</td>\n",
       "    </tr>\n",
       "    <tr>\n",
       "      <th>ACP</th>\n",
       "      <td>74</td>\n",
       "    </tr>\n",
       "    <tr>\n",
       "      <th>YYP</th>\n",
       "      <td>70</td>\n",
       "    </tr>\n",
       "    <tr>\n",
       "      <th>APC</th>\n",
       "      <td>70</td>\n",
       "    </tr>\n",
       "    <tr>\n",
       "      <th>PDP</th>\n",
       "      <td>54</td>\n",
       "    </tr>\n",
       "  </tbody>\n",
       "</table>\n",
       "</div>"
      ],
      "text/plain": [
       "     Oyo\n",
       "SDP   82\n",
       "ACP   74\n",
       "YYP   70\n",
       "APC   70\n",
       "PDP   54"
      ]
     },
     "execution_count": 79,
     "metadata": {},
     "output_type": "execute_result"
    }
   ],
   "source": [
    "oyoVoteCountN = pd.DataFrame(oyoVoteCount)\n",
    "oyoVoteCountN.head()"
   ]
  },
  {
   "cell_type": "code",
   "execution_count": 80,
   "metadata": {},
   "outputs": [
    {
     "data": {
      "text/html": [
       "<div>\n",
       "<style scoped>\n",
       "    .dataframe tbody tr th:only-of-type {\n",
       "        vertical-align: middle;\n",
       "    }\n",
       "\n",
       "    .dataframe tbody tr th {\n",
       "        vertical-align: top;\n",
       "    }\n",
       "\n",
       "    .dataframe thead th {\n",
       "        text-align: right;\n",
       "    }\n",
       "</style>\n",
       "<table border=\"1\" class=\"dataframe\">\n",
       "  <thead>\n",
       "    <tr style=\"text-align: right;\">\n",
       "      <th></th>\n",
       "      <th>Kaduna</th>\n",
       "    </tr>\n",
       "  </thead>\n",
       "  <tbody>\n",
       "    <tr>\n",
       "      <th>YYP</th>\n",
       "      <td>89</td>\n",
       "    </tr>\n",
       "    <tr>\n",
       "      <th>PDP</th>\n",
       "      <td>83</td>\n",
       "    </tr>\n",
       "    <tr>\n",
       "      <th>ACP</th>\n",
       "      <td>81</td>\n",
       "    </tr>\n",
       "    <tr>\n",
       "      <th>APC</th>\n",
       "      <td>75</td>\n",
       "    </tr>\n",
       "    <tr>\n",
       "      <th>SDP</th>\n",
       "      <td>72</td>\n",
       "    </tr>\n",
       "  </tbody>\n",
       "</table>\n",
       "</div>"
      ],
      "text/plain": [
       "     Kaduna\n",
       "YYP      89\n",
       "PDP      83\n",
       "ACP      81\n",
       "APC      75\n",
       "SDP      72"
      ]
     },
     "execution_count": 80,
     "metadata": {},
     "output_type": "execute_result"
    }
   ],
   "source": [
    "kadunaVoteCountN = pd.DataFrame(kadunaVoteCount)\n",
    "kadunaVoteCountN.head()"
   ]
  },
  {
   "cell_type": "code",
   "execution_count": 82,
   "metadata": {},
   "outputs": [
    {
     "name": "stderr",
     "output_type": "stream",
     "text": [
      "C:\\Users\\DELLL\\Anaconda3\\lib\\site-packages\\ipykernel_launcher.py:4: FutureWarning: 'argmax' is deprecated. Use 'idxmax' instead. The behavior of 'argmax' will be corrected to return the positional maximum in the future. Use 'series.values.argmax' to get the position of the maximum now.\n",
      "  after removing the cwd from sys.path.\n"
     ]
    },
    {
     "data": {
      "text/plain": [
       "'YYP'"
      ]
     },
     "execution_count": 82,
     "metadata": {},
     "output_type": "execute_result"
    }
   ],
   "source": [
    "Total = pd.concat([enuguVoteCountN,kadunaVoteCountN,abiaVoteCountN,lagosVoteCountN,oyoVoteCountN], axis=1) # i the pd.concat functon from pandas to concatenate dataframe of the stae from the previous solution\n",
    "Total['Sum']= Total.apply(lambda row: row.Enugu + row.Kaduna + row.Abia + row.Lagos + row.Oyo, axis=1) # i use the lambda function to get of the total votes of each party in every state to produce another column called sum  \n",
    "Total[\"Sum\"].argmax()  #i use the arg.max function to print out the party with in highest total vote in all the state"
   ]
  },
  {
   "cell_type": "markdown",
   "metadata": {},
   "source": [
    "# d. Now suppose we find out that 20% of the APC votes from Lagos were from voters that did not exist, \n",
    "#and 30% of PDP's votes from Enugu were also falsified, determine who might be the new winner? "
   ]
  },
  {
   "cell_type": "code",
   "execution_count": 83,
   "metadata": {},
   "outputs": [
    {
     "data": {
      "text/html": [
       "<div>\n",
       "<style scoped>\n",
       "    .dataframe tbody tr th:only-of-type {\n",
       "        vertical-align: middle;\n",
       "    }\n",
       "\n",
       "    .dataframe tbody tr th {\n",
       "        vertical-align: top;\n",
       "    }\n",
       "\n",
       "    .dataframe thead th {\n",
       "        text-align: right;\n",
       "    }\n",
       "</style>\n",
       "<table border=\"1\" class=\"dataframe\">\n",
       "  <thead>\n",
       "    <tr style=\"text-align: right;\">\n",
       "      <th></th>\n",
       "      <th>Enugu</th>\n",
       "      <th>Kaduna</th>\n",
       "      <th>Abia</th>\n",
       "      <th>Lagos</th>\n",
       "      <th>Oyo</th>\n",
       "      <th>Sum</th>\n",
       "    </tr>\n",
       "  </thead>\n",
       "  <tbody>\n",
       "    <tr>\n",
       "      <th>ACP</th>\n",
       "      <td>56</td>\n",
       "      <td>81</td>\n",
       "      <td>67</td>\n",
       "      <td>113.0</td>\n",
       "      <td>74</td>\n",
       "      <td>391</td>\n",
       "    </tr>\n",
       "    <tr>\n",
       "      <th>APC</th>\n",
       "      <td>63</td>\n",
       "      <td>75</td>\n",
       "      <td>64</td>\n",
       "      <td>77.6</td>\n",
       "      <td>70</td>\n",
       "      <td>369</td>\n",
       "    </tr>\n",
       "    <tr>\n",
       "      <th>PDP</th>\n",
       "      <td>67</td>\n",
       "      <td>83</td>\n",
       "      <td>67</td>\n",
       "      <td>84.0</td>\n",
       "      <td>54</td>\n",
       "      <td>355</td>\n",
       "    </tr>\n",
       "    <tr>\n",
       "      <th>SDP</th>\n",
       "      <td>59</td>\n",
       "      <td>72</td>\n",
       "      <td>53</td>\n",
       "      <td>100.0</td>\n",
       "      <td>82</td>\n",
       "      <td>366</td>\n",
       "    </tr>\n",
       "    <tr>\n",
       "      <th>YYP</th>\n",
       "      <td>55</td>\n",
       "      <td>89</td>\n",
       "      <td>74</td>\n",
       "      <td>106.0</td>\n",
       "      <td>70</td>\n",
       "      <td>394</td>\n",
       "    </tr>\n",
       "  </tbody>\n",
       "</table>\n",
       "</div>"
      ],
      "text/plain": [
       "     Enugu  Kaduna  Abia  Lagos  Oyo  Sum\n",
       "ACP     56      81    67  113.0   74  391\n",
       "APC     63      75    64   77.6   70  369\n",
       "PDP     67      83    67   84.0   54  355\n",
       "SDP     59      72    53  100.0   82  366\n",
       "YYP     55      89    74  106.0   70  394"
      ]
     },
     "execution_count": 83,
     "metadata": {},
     "output_type": "execute_result"
    }
   ],
   "source": [
    "Total.loc['APC','Lagos'] # i use the .loc funtion to locate and index out the value of apc in lagos\n",
    "Total.loc['APC','Lagos'] = Total.loc['APC','Lagos']-(Total.loc['APC','Lagos'] * 0.2) # we calculated 20% of apc vote in lagos and deducted it from the actual value of apc vote and replace \n",
    "Total"
   ]
  },
  {
   "cell_type": "code",
   "execution_count": 85,
   "metadata": {},
   "outputs": [
    {
     "name": "stderr",
     "output_type": "stream",
     "text": [
      "C:\\Users\\DELLL\\Anaconda3\\lib\\site-packages\\ipykernel_launcher.py:3: FutureWarning: 'argmax' is deprecated. Use 'idxmax' instead. The behavior of 'argmax' will be corrected to return the positional maximum in the future. Use 'series.values.argmax' to get the position of the maximum now.\n",
      "  This is separate from the ipykernel package so we can avoid doing imports until\n"
     ]
    },
    {
     "data": {
      "text/plain": [
       "'YYP'"
      ]
     },
     "execution_count": 85,
     "metadata": {},
     "output_type": "execute_result"
    }
   ],
   "source": [
    "Total.loc['PDP','Enugu']  # i use the .loc funtion to locate and index out the value of pdp in enugu\n",
    "Total.loc['PDP','Enugu'] = Total.loc['PDP','Enugu']-(Total.loc['PDP','Enugu'] * 0.30) # we calculated 30% of pdp vote in enugu and deducted it from the actual value of pdp vote and replace it\n",
    "Total[\"Sum\"].argmax()\n"
   ]
  },
  {
   "cell_type": "code",
   "execution_count": 27,
   "metadata": {},
   "outputs": [],
   "source": [
    "#In addition to the falsification,suppose we found out that 30% of the YYP's total votes recorded by INEC were changed to ACP's vote, \n",
    "#determine who might be the new winner ? "
   ]
  },
  {
   "cell_type": "code",
   "execution_count": 88,
   "metadata": {},
   "outputs": [
    {
     "name": "stderr",
     "output_type": "stream",
     "text": [
      "C:\\Users\\DELLL\\Anaconda3\\lib\\site-packages\\ipykernel_launcher.py:8: FutureWarning: 'argmax' is deprecated. Use 'idxmax' instead. The behavior of 'argmax' will be corrected to return the positional maximum in the future. Use 'series.values.argmax' to get the position of the maximum now.\n",
      "  \n"
     ]
    },
    {
     "data": {
      "text/plain": [
       "'ACP'"
      ]
     },
     "execution_count": 88,
     "metadata": {},
     "output_type": "execute_result"
    }
   ],
   "source": [
    "Total.loc['YYP','Sum'] # i use the .loc funtion to locate and index out the value of total votes of yyp  \n",
    "Total.loc['YYP','Sum'] = Total.loc['ACP','Sum'] + (Total.loc['YYP','Sum']*0.3) # i calculated 30% yyp total vote  and added it to acp totalvote and replace it\n",
    "Total.loc['ACP','Sum'] #WE INDEX OUT THE VALUE OF ACP TOTAL VOTE(SUM)\n",
    "Total.loc['ACP','Sum'] + (Total.loc['YYP','Sum']*0.3)  #WE ADDED 30% OF YYP TOTAL VOTE TO ACP TOTAL VOTE\n",
    "Total.loc['YYP','Sum'] - (Total.loc['YYP','Sum']*0.3)# WE MINUS  30% OF YYP TOTALVOTE FROM THE SUM OF YYP\n",
    "Total.loc['YYP','Sum'] = Total.loc['YYP','Sum'] - (Total.loc['YYP','Sum']*0.3) # WE EQUTED THE 30% OF \n",
    "Total.loc['ACP','Sum'] =Total.loc['ACP','Sum'] + (Total.loc['YYP','Sum']*0.3) #WE EQUATED THE 30% OF YYP TOTAL VOTE THAT WAS ADDED TO ACP TOTAL VOTE TO THE INITIAL STATE OF THE SUM OF YYP\n",
    "Total[\"Sum\"].argmax()"
   ]
  },
  {
   "cell_type": "markdown",
   "metadata": {},
   "source": [
    "# Now suppose the inauguration date of the winner is May 15th 2019, write code that will always determine \n",
    "#the current number of days until the ceremony.  "
   ]
  },
  {
   "cell_type": "code",
   "execution_count": 52,
   "metadata": {},
   "outputs": [
    {
     "data": {
      "text/plain": [
       "216"
      ]
     },
     "execution_count": 52,
     "metadata": {},
     "output_type": "execute_result"
    }
   ],
   "source": [
    "import datetime   #import in built time funtion\n",
    "\n",
    "days_till_inauguration = \\\n",
    "(datetime.datetime(2019,5,29) - datetime.datetime.now()).days   # i usethe datetime class to subtract todays date from inauguration date \n",
    "days_till_inauguration"
   ]
  },
  {
   "cell_type": "markdown",
   "metadata": {},
   "source": [
    "# Lastly out of these 5 parties,  tell me which party you are most likely to vote for? (free will answer). "
   ]
  },
  {
   "cell_type": "code",
   "execution_count": null,
   "metadata": {},
   "outputs": [],
   "source": [
    "ACP"
   ]
  }
 ],
 "metadata": {
  "kernelspec": {
   "display_name": "Python 3",
   "language": "python",
   "name": "python3"
  },
  "language_info": {
   "codemirror_mode": {
    "name": "ipython",
    "version": 3
   },
   "file_extension": ".py",
   "mimetype": "text/x-python",
   "name": "python",
   "nbconvert_exporter": "python",
   "pygments_lexer": "ipython3",
   "version": "3.6.4"
  }
 },
 "nbformat": 4,
 "nbformat_minor": 2
}
